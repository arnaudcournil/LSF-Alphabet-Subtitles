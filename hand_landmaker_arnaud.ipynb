{
  "cells": [
    {
      "cell_type": "code",
      "execution_count": 171,
      "metadata": {
        "id": "Y1ft16quGoAf"
      },
      "outputs": [],
      "source": [
        "import numpy as np\n",
        "import cv2\n",
        "import mediapipe as mp\n",
        "from mediapipe.tasks import python\n",
        "from mediapipe.tasks.python import vision\n",
        "import os\n",
        "import math\n",
        "from sklearn.neighbors import KNeighborsClassifier\n",
        "from sklearn.tree import DecisionTreeClassifier\n",
        "from sklearn.svm import SVC\n",
        "from sklearn.ensemble import RandomForestClassifier\n",
        "from sklearn.preprocessing import StandardScaler\n",
        "from sklearn.linear_model import LogisticRegression, LinearRegression\n",
        "from sklearn.metrics import confusion_matrix, ConfusionMatrixDisplay\n",
        "import matplotlib.pyplot as plt\n",
        "import random\n",
        "import time\n",
        "import joblib"
      ]
    },
    {
      "cell_type": "markdown",
      "metadata": {
        "id": "zDtejQypbGpx"
      },
      "source": [
        "## Prepare data"
      ]
    },
    {
      "cell_type": "code",
      "execution_count": 172,
      "metadata": {
        "id": "Wvflpg--nlwx"
      },
      "outputs": [],
      "source": [
        "def get_files_in_folder(folder):\n",
        "      # Liste les fichiers dans le dossier spécifié\n",
        "      files = [folder  + \"/\" + f for f in os.listdir(folder) if os.path.isfile(os.path.join(folder, f))]\n",
        "      return files"
      ]
    },
    {
      "cell_type": "code",
      "execution_count": 173,
      "metadata": {
        "id": "Xi-OtiPROf0h"
      },
      "outputs": [],
      "source": [
        "def get_coords(point):\n",
        "  return [point.x, point.y, point.z]"
      ]
    },
    {
      "cell_type": "code",
      "execution_count": 174,
      "metadata": {
        "id": "TBGDe8VOHIrC"
      },
      "outputs": [],
      "source": [
        "def get_angles(base, finger, hand):\n",
        "    # Convertir les coordonnées des points en un tableau NumPy pour faciliter les calculs\n",
        "    points = np.array([[base.x, base.y, base.z]] + [[p.x, p.y, p.z] for p in finger])\n",
        "\n",
        "    # Initialiser une liste pour stocker les angles\n",
        "    angles = []\n",
        "\n",
        "    # Boucler sur les triplets de points\n",
        "    for i in range(len(points) - 2):\n",
        "        # Points A, B, C\n",
        "        A, B, C = points[i], points[i + 1], points[i + 2]\n",
        "\n",
        "        # Calcul des vecteurs BA et BC\n",
        "        BA = A - B\n",
        "        BC = C - B\n",
        "\n",
        "        # Normalisation des vecteurs\n",
        "        BA = BA / np.linalg.norm(BA)\n",
        "        BC = BC / np.linalg.norm(BC)\n",
        "\n",
        "        # Produit scalaire entre BA et BC\n",
        "        dot_product = np.dot(BA, BC)\n",
        "\n",
        "        # Calcul de l'angle en radians\n",
        "        cos_theta = np.clip(dot_product, -1.0, 1.0)  # S'assurer que cos_theta reste dans [-1, 1]\n",
        "\n",
        "        # Ajouter l'angle en radians à la liste\n",
        "        angles.append(np.arccos(cos_theta) / np.pi) # Calcul de l'angle en radian / pi (pour que angle soit dans [0, 1])\n",
        "\n",
        "        if i != len(points) - 3: # Calculer la rotation entre les plans\n",
        "          # Points A, B, C, D\n",
        "          D = points[i + 3]\n",
        "\n",
        "          # Calcul des vecteurs AB, AC, BC, BD\n",
        "          AB = B - A\n",
        "          AC = C - A\n",
        "          BD = D - B\n",
        "          CD = D - C\n",
        "\n",
        "          #  Normalisation des vecteurs\n",
        "          AB = AB / np.linalg.norm(AB)\n",
        "          AC = AC / np.linalg.norm(AC)\n",
        "          BD = BD / np.linalg.norm(BD)\n",
        "          CD = CD / np.linalg.norm(CD)\n",
        "\n",
        "          # Calcul des vecteurs normaux au plan ABC  et BCD\n",
        "          u = np.cross(AB, AC)\n",
        "          v = np.cross(BD, CD)\n",
        "\n",
        "          # Calcul de l'angle en radians\n",
        "          cos_theta = np.dot(u, v) / (np.linalg.norm(u) * np.linalg.norm(v))\n",
        "          cos_theta = np.clip(cos_theta, -1.0, 1.0)  # S'assurer que cos_theta reste dans [-1, 1]\n",
        "\n",
        "          # Ajouter l'angle en radians à la liste\n",
        "          angles.append(np.arccos(cos_theta) / np.pi) # Calcul de l'angle en radian / pi (pour que angle soit dans [0, 1])\n",
        "\n",
        "    return angles\n",
        "\n",
        "def signed_distance(point, normal_vector, d, index):\n",
        "    \"\"\"\n",
        "    Calcule la distance signée d'un point par rapport à un plan.\n",
        "    :param point: Coordonnées du point [x, y, z]\n",
        "    :param normal_vector: Vecteur normal du plan [a, b, c]\n",
        "    :param d: Terme constant de l'équation du plan\n",
        "    :return: Distance signée\n",
        "    \"\"\"\n",
        "    return (np.dot(normal_vector, point) + d) * math.sqrt((index[1].x - index[0].x)**2 + (index[1].y - index[0].y)**2 + (index[1].z - index[0].z)**2) # De la même longueur que la métacarpe de l'index\n",
        "\n",
        "def projection_point(p1, p2, q):\n",
        "    \"\"\" Calcule la projection du point q sur la droite passant par p1 et p2 \"\"\"\n",
        "    v1 = np.array(p1) - np.array(p2)\n",
        "    v2 = np.array(q) - np.array(p2)\n",
        "    t = np.dot(v1, v2) / np.dot(v1, v1)\n",
        "    return np.array(p2) + t * v1"
      ]
    },
    {
      "cell_type": "code",
      "execution_count": 175,
      "metadata": {
        "id": "xmIvOHhcHK8x"
      },
      "outputs": [],
      "source": [
        "def preprocess(detection):\n",
        "  hand = detection.handedness[0][0].category_name\n",
        "  base_poignet = detection.hand_landmarks[0][0]\n",
        "  pouce = detection.hand_landmarks[0][1:5]\n",
        "  index = detection.hand_landmarks[0][5:9]\n",
        "  majeur = detection.hand_landmarks[0][9:13]\n",
        "  annulaire = detection.hand_landmarks[0][13:17]\n",
        "  auriculaire = detection.hand_landmarks[0][17:21]\n",
        "\n",
        "  ## Calcul des angles entre les phalages et la rotation\n",
        "  angles = get_angles(base_poignet, pouce, hand) + get_angles(base_poignet, index, hand) + get_angles(base_poignet, majeur, hand) + get_angles(base_poignet, annulaire, hand) + get_angles(base_poignet, auriculaire, hand)\n",
        "\n",
        "  ## Ajout de l'orientation de poignet\n",
        "  hand_without_fingers = np.array([get_coords(base_poignet), get_coords(pouce[0]), get_coords(index[0]), get_coords(majeur[0]), get_coords(annulaire[0]), get_coords(auriculaire[0])])\n",
        "\n",
        "  # Appliquer la SVD\n",
        "  U, S, Vt = np.linalg.svd(hand_without_fingers - np.mean(hand_without_fingers, axis=0))\n",
        "\n",
        "  # Le vecteur normal du plan est donné par la dernière ligne de Vt\n",
        "  if np.dot(Vt[2], [1, 1, 1]) >= -np.dot(Vt[2], [1, 1, 1]):\n",
        "    normal_vector = Vt[2]\n",
        "  else:\n",
        "    normal_vector = -Vt[2]\n",
        "\n",
        "  # Si la paume est vers l'avant de l'écran, c'est à dire le point moyen des bout de doigts est dans la même direction que le vecteur normal\n",
        "  paume_vers_avant = 0\n",
        "  if signed_distance(np.mean([get_coords(pouce[-1]), get_coords(index[-1]), get_coords(majeur[-1]), get_coords(annulaire[-1]), get_coords(auriculaire[-1])], axis=0), normal_vector, -np.dot(normal_vector, np.mean(hand_without_fingers, axis=0)), index) > 0:\n",
        "    normal_vector = -normal_vector\n",
        "    paume_vers_avant = 1\n",
        "\n",
        "  # Normalisation du vecteur normal\n",
        "  normal_vector = normal_vector / np.linalg.norm(normal_vector)\n",
        "\n",
        "  ### L'index et le majeur sont croisés (pour différencier le R du U)\n",
        "\n",
        "  # Equation du plan moyen\n",
        "  a, b, c = normal_vector\n",
        "  d = -np.dot(normal_vector, np.mean(hand_without_fingers, axis=0))\n",
        "\n",
        "  ## Calcul de la distance signé entre le plan et l'index et le majeur * la distance de la métacarpe de l'index\n",
        "  majeur_sur_index = signed_distance(get_coords(majeur[-1]), normal_vector, d, index) - signed_distance(get_coords(index[-1]), normal_vector, d, index)\n",
        "\n",
        "  ## Calcul de la distance entre les points projetés de la dernière phalange de l'index et du majeur sur la droite donnée par les premières phalanges de l'index et du majeur divisé par la distance entre la première distance de l'index et du majeur\n",
        "\n",
        "  # Projections des derniers points de l'index et du majeur sur la droite\n",
        "  index_proj = np.array(projection_point(get_coords(index[0]), get_coords(index[1]), get_coords(index[-1])))\n",
        "  majeur_proj = np.array(projection_point(get_coords(majeur[0]), get_coords(majeur[1]), get_coords(majeur[-1])))\n",
        "\n",
        "  # Distance entre les projections des derniers points de l'index et du majeur\n",
        "  distance_proj = np.linalg.norm(index_proj - majeur_proj)\n",
        "\n",
        "  # Distance entre les premières phalanges de l'index et du majeur\n",
        "  distance_base = np.linalg.norm(np.array(get_coords(index[0])) - np.array(get_coords(majeur[0])))\n",
        "\n",
        "  # Calcul final\n",
        "  ratio = -distance_proj / distance_base\n",
        "\n",
        "  # Detection de si le pouce est devant l'index (pour le F et le T)\n",
        "  index_base_proj_ind_aur = projection_point(get_coords(index[0]), get_coords(auriculaire[0]), get_coords(index[0]))\n",
        "  index_proj_ind_aur = projection_point(get_coords(index[0]), get_coords(auriculaire[0]), get_coords(index[-1]))\n",
        "  pouce_proj_ind_aur = projection_point(get_coords(index[0]), get_coords(auriculaire[0]), get_coords(pouce[-1]))\n",
        "  pouce_ind_croise = int(np.linalg.norm(index_base_proj_ind_aur - index_proj_ind_aur) > np.linalg.norm(index_base_proj_ind_aur - pouce_proj_ind_aur)) # 1 si croise, 0 sinon\n",
        "\n",
        "  ## Calculer l'angle entre l'index et le majeur\n",
        "\n",
        "  # Convertir les points en numpy arrays\n",
        "\n",
        "  # Calcul des vecteurs AB et CD\n",
        "  index_top_bottom = np.array(get_coords(index[-1])) - np.array(get_coords(index[0]))\n",
        "  majeur_top_bottom = np.array(get_coords(majeur[-1])) - np.array(get_coords(majeur[0]))\n",
        "\n",
        "  # Produit scalaire des deux vecteurs\n",
        "  dot_product = np.dot(index_top_bottom, majeur_top_bottom)\n",
        "\n",
        "  # Cosinus de l'angle\n",
        "  cos_theta = dot_product / (np.linalg.norm(index_top_bottom) * np.linalg.norm(majeur_top_bottom))\n",
        "\n",
        "  # Angle en radians\n",
        "  angle_index_majeur = np.arccos(np.clip(cos_theta, -1.0, 1.0)) / np.pi  # Clip pour éviter les erreurs numériques\n",
        "\n",
        "  return angles + [paume_vers_avant, majeur_sur_index, ratio, pouce_ind_croise, angle_index_majeur]"
      ]
    },
    {
      "cell_type": "code",
      "execution_count": 176,
      "metadata": {
        "id": "o3w5aanLsPBg"
      },
      "outputs": [],
      "source": [
        "def test_models(X_train_act, X_test_act):\n",
        "  best_model  = None\n",
        "  best_score = 0\n",
        "  print(\"KNN :\\n\")\n",
        "  scores = []\n",
        "  for i in range(1, 12):\n",
        "    knn = KNeighborsClassifier(n_neighbors = i)\n",
        "    knn.fit(X_train_act, y_train_detected)\n",
        "    score = knn.score(X_test_act, y_test_detected)\n",
        "    scores.append(score)\n",
        "    if score > best_score:\n",
        "      best_score = score\n",
        "      best_model = knn\n",
        "  print(np.mean(scores), np.min(scores), np.max(scores), np.argmax(scores))\n",
        "\n",
        "  print(\"\\nDecision Tree :\\n\")\n",
        "  scores = []\n",
        "  for i in range(100):\n",
        "    dt = DecisionTreeClassifier(random_state=i)\n",
        "    dt.fit(X_train_act, y_train_detected)\n",
        "    score = dt.score(X_test_act, y_test_detected)\n",
        "    scores.append(score)\n",
        "    if score > best_score:\n",
        "      best_score = score\n",
        "      best_model = dt\n",
        "  print(np.mean(scores), np.min(scores), np.max(scores), np.argmax(scores))\n",
        "\n",
        "  print(\"\\nSVC :\\n\")\n",
        "  svc = SVC()\n",
        "  svc.fit(X_train_act, y_train_detected)\n",
        "  score = svc.score(X_test_act, y_test_detected)\n",
        "  print(score)\n",
        "  if score > best_score:\n",
        "    best_score = score\n",
        "    best_model = svc\n",
        "\n",
        "  print(\"\\nRandom Forest :\\n\")\n",
        "  scores = []\n",
        "  for i in range(100):\n",
        "    rf = RandomForestClassifier(random_state=i)\n",
        "    rf.fit(X_train_act, y_train_detected)\n",
        "    score = rf.score(X_test_act, y_test_detected)\n",
        "    scores.append(score)\n",
        "    if score > best_score:\n",
        "      best_score = score\n",
        "      best_model = rf\n",
        "  print(np.mean(scores), np.min(scores), np.max(scores), np.argmax(scores))\n",
        "\n",
        "  print(\"\\nLogistic Regression :\\n\")\n",
        "  lr = LogisticRegression()\n",
        "  lr.fit(X_train_act, y_train_detected)\n",
        "  score = lr.score(X_test_act, y_test_detected)\n",
        "  print(score)\n",
        "  if score > best_score:\n",
        "    best_score = score\n",
        "    best_model = lr\n",
        "\n",
        "  return best_model\n",
        "\n",
        "def draw_conf_matrix(best_model, X_test_act):\n",
        "  # Prédictions\n",
        "  y_pred = best_model.predict(X_test_act)\n",
        "\n",
        "  # Calcul de la matrice de confusion\n",
        "  cm = confusion_matrix(y_test_detected, y_pred)\n",
        "\n",
        "  # Définir de nouvelles étiquettes (A, B, C, etc.)\n",
        "  num_classes = len(np.unique(y_test_detected))\n",
        "  labels = [chr(65 + i) for i in range(num_classes)]  # Génère A, B, C, ...\n",
        "\n",
        "  # Affichage de la matrice de confusion avec les nouvelles étiquettes\n",
        "  disp = ConfusionMatrixDisplay(confusion_matrix=cm, display_labels=labels)\n",
        "  disp.plot(cmap=\"Blues\")\n",
        "\n",
        "  # Afficher le graphique\n",
        "  plt.show()"
      ]
    },
    {
      "cell_type": "code",
      "execution_count": 177,
      "metadata": {
        "id": "eVMQ5QedG8J0"
      },
      "outputs": [],
      "source": [
        "# STEP 1:  Get files path\n",
        "train = get_files_in_folder(\"train\")\n",
        "test = get_files_in_folder(\"test\")\n",
        "\n",
        "# STEP 2: Create an HandLandmarker object.\n",
        "base_options = python.BaseOptions(model_asset_path='hand_landmarker.task')\n",
        "options = vision.HandLandmarkerOptions(base_options=base_options,\n",
        "                                       num_hands=1)\n",
        "detector = vision.HandLandmarker.create_from_options(options)\n",
        "\n",
        "# STEP 3:  Create X_train, X_test, y_train, y_test\n",
        "X_train =  [cv2.cvtColor(cv2.imread(image_path), cv2.COLOR_BGR2RGB) for image_path in train]\n",
        "y_train = [ord(image_path[-5]) - 65  for image_path in train]\n",
        "X_test =  [cv2.cvtColor(cv2.imread(image_path), cv2.COLOR_BGR2RGB) for image_path in test]\n",
        "y_test = [ord(image_path[-5]) - 65  for image_path in test]\n",
        "\n",
        "# STEP 4: Predict with mediapipe\n",
        "X_train_detected,  y_train_detected =  [], []\n",
        "X_test_detected,  y_test_detected =  [], []\n",
        "\n",
        "for i in range(0, len(X_train)):\n",
        "    detection = detector.detect(mp.Image(image_format=mp.ImageFormat.SRGB, data=X_train[i]))\n",
        "    if len(detection.handedness) > 0:\n",
        "        if detection.handedness[0][0].category_name == \"Left\":\n",
        "          for j in range(0, len(detection.hand_landmarks[0])):\n",
        "            detection.hand_landmarks[0][j].x = 1 - detection.hand_landmarks[0][j].x\n",
        "        X_train_detected.append(detection)\n",
        "        y_train_detected.append(y_train[i])\n",
        "\n",
        "for i in range(0, len(X_test)):\n",
        "    detection = detector.detect(mp.Image(image_format=mp.ImageFormat.SRGB, data=X_test[i]))\n",
        "    if len(detection.handedness) > 0:\n",
        "        if detection.handedness[0][0].category_name == \"Left\":\n",
        "          for j in range(0, len(detection.hand_landmarks[0])):\n",
        "            detection.hand_landmarks[0][j].x = 1 - detection.hand_landmarks[0][j].x\n",
        "        X_test_detected.append(detection)\n",
        "        y_test_detected.append(y_test[i])\n",
        "\n",
        "# STEP 5: preprocess and stardardize data and reverse data for model 1 and 2\n",
        "X_train_1_preprocessed = [preprocess(detection) for detection in X_train_detected]\n",
        "X_test_1_preprocessed = [preprocess(detection) for detection in X_test_detected]\n",
        "\n",
        "scaler_1  = StandardScaler()\n",
        "scaler_1.fit(X_train_1_preprocessed)\n",
        "\n",
        "X_train_1 = scaler_1.transform(X_train_1_preprocessed)\n",
        "X_test_1 = scaler_1.transform(X_test_1_preprocessed)\n",
        "\n",
        "X_train_2_preprocessed = [np.array([[lm.x, lm.y, lm.z] for lm in detection.hand_landmarks[0]]).flatten() for detection in X_train_detected]\n",
        "X_test_2_preprocessed = [np.array([[lm.x, lm.y, lm.z] for lm in detection.hand_landmarks[0]]).flatten() for detection in X_test_detected]\n",
        "\n",
        "scaler_2  = StandardScaler()\n",
        "scaler_2.fit(X_train_2_preprocessed)\n",
        "\n",
        "X_train_2 = scaler_2.transform(X_train_2_preprocessed)\n",
        "X_test_2 = scaler_2.transform(X_test_2_preprocessed)\n"
      ]
    },
    {
      "cell_type": "markdown",
      "metadata": {
        "id": "OSDiL8o-dTYn"
      },
      "source": [
        "# First approch"
      ]
    },
    {
      "cell_type": "code",
      "execution_count": 178,
      "metadata": {
        "colab": {
          "base_uri": "https://localhost:8080/"
        },
        "id": "x8A7tSUlQVe6",
        "outputId": "de8a63c5-0b03-4d08-ff9e-4bd1eab74741"
      },
      "outputs": [
        {
          "name": "stdout",
          "output_type": "stream",
          "text": [
            "KNN :\n",
            "\n",
            "0.8025974025974025 0.7285714285714285 0.8285714285714286 6\n",
            "\n",
            "Decision Tree :\n",
            "\n",
            "0.7165714285714286 0.6571428571428571 0.7714285714285715 65\n",
            "\n",
            "SVC :\n",
            "\n",
            "0.8428571428571429\n",
            "\n",
            "Random Forest :\n",
            "\n",
            "0.8820000000000001 0.8285714285714286 0.9428571428571428 90\n",
            "\n",
            "Logistic Regression :\n",
            "\n",
            "0.8714285714285714\n"
          ]
        }
      ],
      "source": [
        "best_model_1 = test_models(X_train_1, X_test_1)"
      ]
    },
    {
      "cell_type": "code",
      "execution_count": 179,
      "metadata": {
        "colab": {
          "base_uri": "https://localhost:8080/",
          "height": 455
        },
        "id": "LMry0IZz-cY0",
        "outputId": "8973312b-c3ca-4f6b-f5f0-709d1fa4d684"
      },
      "outputs": [
        {
          "data": {
            "image/png": "[encoded data removed]",
            "text/plain": [
              "<Figure size 640x480 with 2 Axes>"
            ]
          },
          "metadata": {},
          "output_type": "display_data"
        }
      ],
      "source": [
        "draw_conf_matrix(best_model_1, X_test_1)"
      ]
    },
    {
      "cell_type": "code",
      "execution_count": 180,
      "metadata": {
        "colab": {
          "base_uri": "https://localhost:8080/"
        },
        "id": "b8Rlx0dHqdBu",
        "outputId": "deee4176-c518-4b99-83a8-cff31107b501"
      },
      "outputs": [
        {
          "name": "stdout",
          "output_type": "stream",
          "text": [
            "3.06 ms ± 20.9 μs per loop (mean ± std. dev. of 7 runs, 100 loops each)\n"
          ]
        }
      ],
      "source": [
        "%timeit best_model_1.predict(X_test_1)"
      ]
    },
    {
      "cell_type": "markdown",
      "metadata": {
        "id": "_uqYFKmWUix9"
      },
      "source": [
        "# Second approch"
      ]
    },
    {
      "cell_type": "code",
      "execution_count": 181,
      "metadata": {
        "colab": {
          "base_uri": "https://localhost:8080/"
        },
        "id": "0UF7eYXuYoQH",
        "outputId": "447f12b1-3aa4-4fc9-c17f-f9abf7a6aa28"
      },
      "outputs": [
        {
          "name": "stdout",
          "output_type": "stream",
          "text": [
            "KNN :\n",
            "\n",
            "0.41298701298701307 0.35714285714285715 0.4714285714285714 8\n",
            "\n",
            "Decision Tree :\n",
            "\n",
            "0.3791428571428571 0.32857142857142857 0.44285714285714284 1\n",
            "\n",
            "SVC :\n",
            "\n",
            "0.5\n",
            "\n",
            "Random Forest :\n",
            "\n",
            "0.5367142857142856 0.45714285714285713 0.6428571428571429 47\n",
            "\n",
            "Logistic Regression :\n",
            "\n",
            "0.8857142857142857\n"
          ]
        }
      ],
      "source": [
        "best_model_2 = test_models(X_train_2, X_test_2)"
      ]
    },
    {
      "cell_type": "code",
      "execution_count": 182,
      "metadata": {
        "colab": {
          "base_uri": "https://localhost:8080/",
          "height": 455
        },
        "id": "OxQdiYDba3Ry",
        "outputId": "841d7244-5eb2-4cde-fd5c-403560e9a0f8"
      },
      "outputs": [
        {
          "data": {
            "image/png": "[encoded data removed]",
            "text/plain": [
              "<Figure size 640x480 with 2 Axes>"
            ]
          },
          "metadata": {},
          "output_type": "display_data"
        }
      ],
      "source": [
        "draw_conf_matrix(best_model_2, X_test_2)"
      ]
    },
    {
      "cell_type": "code",
      "execution_count": 183,
      "metadata": {
        "colab": {
          "base_uri": "https://localhost:8080/"
        },
        "id": "qhnO5vEVqYuY",
        "outputId": "831278a1-2d74-4262-d4aa-8de97322f2f4"
      },
      "outputs": [
        {
          "name": "stdout",
          "output_type": "stream",
          "text": [
            "69.2 μs ± 240 ns per loop (mean ± std. dev. of 7 runs, 10,000 loops each)\n"
          ]
        }
      ],
      "source": [
        "%timeit best_model_2.predict(X_test_2)"
      ]
    },
    {
      "cell_type": "markdown",
      "metadata": {
        "id": "Mt3FueuzjUgp"
      },
      "source": [
        "# Combine models"
      ]
    },
    {
      "cell_type": "code",
      "execution_count": 184,
      "metadata": {
        "id": "anE870Mmcn4_"
      },
      "outputs": [],
      "source": [
        "y_pred_1 = best_model_1.predict_proba(X_train_1)\n",
        "y_pred_2 = best_model_2.predict_proba(X_train_2)\n",
        "X_train_3 = np.concatenate((y_pred_1, y_pred_2), axis=1)\n",
        "\n",
        "y_pred_1_test = best_model_1.predict_proba(X_test_1)\n",
        "y_pred_2_test = best_model_2.predict_proba(X_test_2)\n",
        "X_test_3 = np.concatenate((y_pred_1_test, y_pred_2_test), axis=1)"
      ]
    },
    {
      "cell_type": "code",
      "execution_count": 185,
      "metadata": {
        "colab": {
          "base_uri": "https://localhost:8080/"
        },
        "id": "yG_fvihEpbMp",
        "outputId": "63f93baa-1d33-4509-9f6f-9c394c8b3177"
      },
      "outputs": [
        {
          "name": "stdout",
          "output_type": "stream",
          "text": [
            "KNN :\n",
            "\n",
            "0.9350649350649352 0.9285714285714286 0.9571428571428572 5\n",
            "\n",
            "Decision Tree :\n",
            "\n",
            "0.7919999999999999 0.7285714285714285 0.8571428571428571 57\n",
            "\n",
            "SVC :\n",
            "\n",
            "0.9714285714285714\n",
            "\n",
            "Random Forest :\n",
            "\n",
            "0.9127142857142857 0.9 0.9285714285714286 23\n",
            "\n",
            "Logistic Regression :\n",
            "\n",
            "0.9571428571428572\n"
          ]
        }
      ],
      "source": [
        "best_model_3 = test_models(X_train_3, X_test_3)"
      ]
    },
    {
      "cell_type": "code",
      "execution_count": 186,
      "metadata": {
        "colab": {
          "base_uri": "https://localhost:8080/",
          "height": 455
        },
        "id": "5rGucIMsp5Z6",
        "outputId": "c45f7519-4fca-4aea-eda3-e7daa873d149"
      },
      "outputs": [
        {
          "data": {
            "image/png": "[encoded data removed]",
            "text/plain": [
              "<Figure size 640x480 with 2 Axes>"
            ]
          },
          "metadata": {},
          "output_type": "display_data"
        }
      ],
      "source": [
        "draw_conf_matrix(best_model_3, X_test_3)"
      ]
    },
    {
      "cell_type": "code",
      "execution_count": 187,
      "metadata": {
        "colab": {
          "base_uri": "https://localhost:8080/"
        },
        "id": "w10wfA74qPHs",
        "outputId": "930d068c-b78f-40bb-cd02-48fd819bd6e1"
      },
      "outputs": [
        {
          "name": "stdout",
          "output_type": "stream",
          "text": [
            "998 μs ± 6.43 μs per loop (mean ± std. dev. of 7 runs, 1,000 loops each)\n"
          ]
        }
      ],
      "source": [
        "%timeit best_model_3.predict(X_test_3)"
      ]
    },
    {
      "cell_type": "markdown",
      "metadata": {},
      "source": [
        "# Save models"
      ]
    },
    {
      "cell_type": "code",
      "execution_count": 188,
      "metadata": {},
      "outputs": [
        {
          "data": {
            "text/plain": [
              "['best_model_3.pkl']"
            ]
          },
          "execution_count": 188,
          "metadata": {},
          "output_type": "execute_result"
        }
      ],
      "source": [
        "joblib.dump(scaler_1, \"scaler_1.pkl\", compress=0)\n",
        "joblib.dump(scaler_2, \"scaler_2.pkl\", compress=0)\n",
        "joblib.dump(best_model_1, \"best_model_1.pkl\", compress=0)\n",
        "joblib.dump(best_model_2, \"best_model_2.pkl\", compress=0)\n",
        "joblib.dump(best_model_3, 'best_model_3.pkl', compress=0)"
      ]
    },
    {
      "cell_type": "markdown",
      "metadata": {
        "id": "BxXqR7Ypvypt"
      },
      "source": [
        "# Test pipeline"
      ]
    },
    {
      "cell_type": "code",
      "execution_count": 213,
      "metadata": {
        "id": "aGCFkEShv8CI"
      },
      "outputs": [],
      "source": [
        "def pipeline_predict(img):\n",
        "    detection = detector.detect(mp.Image(image_format=mp.ImageFormat.SRGB, data=img))\n",
        "    if len(detection.handedness) == 0:\n",
        "      return None\n",
        "\n",
        "    if detection.handedness[0][0].category_name == \"Left\":\n",
        "      for j in range(0, len(detection.hand_landmarks[0])):\n",
        "        detection.hand_landmarks[0][j].x = 1 - detection.hand_landmarks[0][j].x\n",
        "\n",
        "    preprocessed = preprocess(detection)\n",
        "\n",
        "    data_model_1 = scaler_1.transform([preprocessed])\n",
        "    y_pred_1 = best_model_1.predict_proba(data_model_1)\n",
        "    entropy_1 = -np.sum(np.clip(y_pred_1[0], 1e-10, 1) * np.log(np.clip(y_pred_1[0], 1e-10, 1))) / math.log(len(y_pred_1[0]))\n",
        "    if entropy_1 > 0.8:\n",
        "       return None\n",
        "    \n",
        "    data_model_2 = scaler_2.transform([np.array([[lm.x, lm.y, lm.z] for lm in detection.hand_landmarks[0]]).flatten()])\n",
        "    y_pred_2 = best_model_2.predict_proba(data_model_2)\n",
        "    entropy_2 = -np.sum(np.clip(y_pred_2[0], 1e-10, 1) * np.log(np.clip(y_pred_2[0], 1e-10, 1))) / math.log(len(y_pred_2[0]))\n",
        "    if  entropy_2 > 0.9:\n",
        "       return None\n",
        "\n",
        "    data_model_3 = np.concatenate((y_pred_1, y_pred_2), axis=1)\n",
        "    return best_model_3.predict(data_model_3)[0]"
      ]
    },
    {
      "cell_type": "code",
      "execution_count": 214,
      "metadata": {
        "colab": {
          "base_uri": "https://localhost:8080/"
        },
        "id": "ptGaTKT3w_YN",
        "outputId": "519afd1c-6696-49ae-daec-88bef99080e1"
      },
      "outputs": [
        {
          "name": "stdout",
          "output_type": "stream",
          "text": [
            "Prediction : H , Réalité : H , Hauteur de l'image : 746 , Largeur de l'image : 940\n",
            "30.5 ms ± 1.17 ms per loop (mean ± std. dev. of 7 runs, 10 loops each)\n"
          ]
        }
      ],
      "source": [
        "img_path = random.choice(test)\n",
        "img = cv2.cvtColor(cv2.imread(img_path), cv2.COLOR_BGR2RGB)\n",
        "pred = pipeline_predict(img)\n",
        "\n",
        "print(\"Prediction :\", chr(65 + pred), \", Réalité :\", img_path[-5], \", Hauteur de l'image :\", img.shape[0], \", Largeur de l'image :\", img.shape[1])\n",
        "\n",
        "%timeit pipeline_predict(img)"
      ]
    },
    {
      "cell_type": "code",
      "execution_count": 216,
      "metadata": {
        "colab": {
          "base_uri": "https://localhost:8080/"
        },
        "id": "IWFp7wwz1rDN",
        "outputId": "2f41bc3b-4f2e-4fd8-8138-6af72ce04e5e"
      },
      "outputs": [
        {
          "name": "stdout",
          "output_type": "stream",
          "text": [
            "time (ms) = 2.6657158340988354e-06 x Nombre de pixels de l'image + 29.741259547663404\n"
          ]
        }
      ],
      "source": [
        "# Compute average speed by pixels\n",
        "times, pixels = [], []\n",
        "for img_path in train + test:\n",
        "  img = cv2.cvtColor(cv2.imread(img_path), cv2.COLOR_BGR2RGB)\n",
        "  time_start = time.time()\n",
        "  pred = pipeline_predict(img)\n",
        "  time_end = time.time()\n",
        "  times.append((time_end - time_start) * 1000)\n",
        "  pixels.append(img.shape[0] * img.shape[1])\n",
        "\n",
        "lr = LinearRegression()\n",
        "lr.fit(np.array([pixels]).T, np.array(times))\n",
        "print(\"time (ms) =\", lr.coef_[0], \"x Nombre de pixels de l'image +\", lr.intercept_)"
      ]
    },
    {
      "cell_type": "code",
      "execution_count": 217,
      "metadata": {
        "colab": {
          "base_uri": "https://localhost:8080/"
        },
        "id": "R60ocKSM35G5",
        "outputId": "3b1667f6-c617-4ec0-f0c2-9875c0377ec6"
      },
      "outputs": [
        {
          "name": "stdout",
          "output_type": "stream",
          "text": [
            "Ainsi pour une webcam en HD (1280 x 720 pixels), prédire une image prendrait environ : 32.19798326036889 ms\n"
          ]
        }
      ],
      "source": [
        "print(\"Ainsi pour une webcam en HD (1280 x 720 pixels), prédire une image prendrait environ :\", lr.predict([[1280 * 720]])[0], \"ms\")"
      ]
    }
  ],
  "metadata": {
    "colab": {
      "provenance": []
    },
    "kernelspec": {
      "display_name": ".venv",
      "language": "python",
      "name": "python3"
    },
    "language_info": {
      "codemirror_mode": {
        "name": "ipython",
        "version": 3
      },
      "file_extension": ".py",
      "mimetype": "text/x-python",
      "name": "python",
      "nbconvert_exporter": "python",
      "pygments_lexer": "ipython3",
      "version": "3.11.9"
    }
  },
  "nbformat": 4,
  "nbformat_minor": 0
}
